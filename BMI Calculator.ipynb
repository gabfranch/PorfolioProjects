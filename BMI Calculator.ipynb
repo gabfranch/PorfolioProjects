{
 "cells": [
  {
   "cell_type": "code",
   "execution_count": 43,
   "id": "a8d47a81-fcc3-467e-9d4c-37390c857802",
   "metadata": {},
   "outputs": [
    {
     "name": "stdin",
     "output_type": "stream",
     "text": [
      "Enter your name:  Gab\n",
      "Enter your weight in kg:  76\n",
      "Enter your height in meters:  1.8\n"
     ]
    },
    {
     "name": "stdout",
     "output_type": "stream",
     "text": [
      "Your BMI: 23.456790123456788\n",
      "Gab, you are normal weight\n"
     ]
    }
   ],
   "source": [
    "name = input('Enter your name: ')\n",
    "\n",
    "weight = float(input(\"Enter your weight in kg: \"))\n",
    "\n",
    "height = float(input(\"Enter your height in meters: \"))\n",
    "\n",
    "BMI = weight / (height * height)\n",
    "\n",
    "print('Your BMI:', BMI)\n",
    "\n",
    "if BMI > 0:\n",
    "    if(BMI < 18.5):\n",
    "        print(name + ', you are underweight')\n",
    "    elif(BMI <= 24.9):\n",
    "        print(name + ', you are normal weight')\n",
    "    elif(BMI <= 29.9):\n",
    "        print(name + ', you are overweight')\n",
    "    elif(BMI <= 34.9):\n",
    "        print(name + ', you are obese')\n",
    "    elif(BMI <= 39.9):\n",
    "        print(name + ', you are severely obese')\n",
    "    else:\n",
    "        print(name + ', you are morbidly obese')\n",
    "else:\n",
    "    print('Enter valid input')"
   ]
  }
 ],
 "metadata": {
  "kernelspec": {
   "display_name": "Python 3 (ipykernel)",
   "language": "python",
   "name": "python3"
  },
  "language_info": {
   "codemirror_mode": {
    "name": "ipython",
    "version": 3
   },
   "file_extension": ".py",
   "mimetype": "text/x-python",
   "name": "python",
   "nbconvert_exporter": "python",
   "pygments_lexer": "ipython3",
   "version": "3.12.4"
  }
 },
 "nbformat": 4,
 "nbformat_minor": 5
}
